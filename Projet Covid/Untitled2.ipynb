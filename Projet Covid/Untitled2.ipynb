{
 "cells": [
  {
   "cell_type": "code",
   "execution_count": 1,
   "id": "bec9429b-a2d6-4142-884b-e2605a32d799",
   "metadata": {},
   "outputs": [
    {
     "name": "stdout",
     "output_type": "stream",
     "text": [
      "Collecting librosa\n",
      "  Using cached librosa-0.8.1-py3-none-any.whl (203 kB)\n",
      "Collecting numba>=0.43.0\n",
      "  Using cached numba-0.53.1-cp39-cp39-win_amd64.whl (2.3 MB)\n",
      "Collecting soundfile>=0.10.2\n",
      "  Using cached SoundFile-0.10.3.post1-py2.py3.cp26.cp27.cp32.cp33.cp34.cp35.cp36.pp27.pp32.pp33-none-win_amd64.whl (689 kB)\n",
      "Collecting joblib>=0.14\n",
      "  Using cached joblib-1.0.1-py3-none-any.whl (303 kB)\n",
      "Requirement already satisfied: numpy>=1.15.0 in c:\\users\\daran\\appdata\\roaming\\python\\python39\\site-packages (from librosa) (1.20.3)\n",
      "Requirement already satisfied: decorator>=3.0.0 in c:\\users\\daran\\appdata\\roaming\\python\\python39\\site-packages (from librosa) (5.0.9)\n",
      "Collecting pooch>=1.0\n",
      "  Using cached pooch-1.4.0-py3-none-any.whl (51 kB)\n",
      "Requirement already satisfied: packaging>=20.0 in c:\\users\\daran\\appdata\\roaming\\python\\python39\\site-packages (from librosa) (20.9)\n",
      "Collecting scipy>=1.0.0\n",
      "  Using cached scipy-1.6.3-cp39-cp39-win_amd64.whl (32.7 MB)\n",
      "Collecting scikit-learn!=0.19.0,>=0.14.0\n",
      "  Using cached scikit_learn-0.24.2-cp39-cp39-win_amd64.whl (6.9 MB)\n",
      "Collecting resampy>=0.2.2\n",
      "  Using cached resampy-0.2.2.tar.gz (323 kB)\n",
      "Collecting audioread>=2.0.0\n",
      "  Using cached audioread-2.1.9.tar.gz (377 kB)\n",
      "Collecting llvmlite<0.37,>=0.36.0rc1\n",
      "  Using cached llvmlite-0.36.0-cp39-cp39-win_amd64.whl (16.0 MB)\n",
      "Requirement already satisfied: setuptools in c:\\users\\daran\\appdata\\local\\programs\\python\\python39\\lib\\site-packages (from numba>=0.43.0->librosa) (56.0.0)\n",
      "Requirement already satisfied: pyparsing>=2.0.2 in c:\\users\\daran\\appdata\\roaming\\python\\python39\\site-packages (from packaging>=20.0->librosa) (2.4.7)\n",
      "Collecting appdirs\n",
      "  Using cached appdirs-1.4.4-py2.py3-none-any.whl (9.6 kB)\n",
      "Requirement already satisfied: requests in c:\\users\\daran\\appdata\\local\\programs\\python\\python39\\lib\\site-packages (from pooch>=1.0->librosa) (2.25.1)\n",
      "Requirement already satisfied: six>=1.3 in c:\\users\\daran\\appdata\\roaming\\python\\python39\\site-packages (from resampy>=0.2.2->librosa) (1.16.0)\n",
      "Collecting threadpoolctl>=2.0.0\n",
      "  Using cached threadpoolctl-2.1.0-py3-none-any.whl (12 kB)\n",
      "Requirement already satisfied: cffi>=1.0 in c:\\users\\daran\\appdata\\roaming\\python\\python39\\site-packages (from soundfile>=0.10.2->librosa) (1.14.5)\n",
      "Requirement already satisfied: pycparser in c:\\users\\daran\\appdata\\roaming\\python\\python39\\site-packages (from cffi>=1.0->soundfile>=0.10.2->librosa) (2.20)\n",
      "Requirement already satisfied: chardet<5,>=3.0.2 in c:\\users\\daran\\appdata\\local\\programs\\python\\python39\\lib\\site-packages (from requests->pooch>=1.0->librosa) (4.0.0)\n",
      "Requirement already satisfied: idna<3,>=2.5 in c:\\users\\daran\\appdata\\local\\programs\\python\\python39\\lib\\site-packages (from requests->pooch>=1.0->librosa) (2.10)\n",
      "Requirement already satisfied: urllib3<1.27,>=1.21.1 in c:\\users\\daran\\appdata\\local\\programs\\python\\python39\\lib\\site-packages (from requests->pooch>=1.0->librosa) (1.26.5)\n",
      "Requirement already satisfied: certifi>=2017.4.17 in c:\\users\\daran\\appdata\\local\\programs\\python\\python39\\lib\\site-packages (from requests->pooch>=1.0->librosa) (2021.5.30)\n",
      "Using legacy 'setup.py install' for audioread, since package 'wheel' is not installed.\n",
      "Using legacy 'setup.py install' for resampy, since package 'wheel' is not installed.\n",
      "Installing collected packages: llvmlite, threadpoolctl, scipy, numba, joblib, appdirs, soundfile, scikit-learn, resampy, pooch, audioread, librosa\n",
      "    Running setup.py install for resampy: started\n",
      "    Running setup.py install for resampy: finished with status 'done'\n",
      "    Running setup.py install for audioread: started\n",
      "    Running setup.py install for audioread: finished with status 'done'\n",
      "Successfully installed appdirs-1.4.4 audioread-2.1.9 joblib-1.0.1 librosa-0.8.1 llvmlite-0.36.0 numba-0.53.1 pooch-1.4.0 resampy-0.2.2 scikit-learn-0.24.2 scipy-1.6.3 soundfile-0.10.3.post1 threadpoolctl-2.1.0\n"
     ]
    }
   ],
   "source": [
    "!pip install librosa"
   ]
  },
  {
   "cell_type": "code",
   "execution_count": 2,
   "id": "534cc050-6cb3-42d0-bbcf-5efba9dc4c0c",
   "metadata": {},
   "outputs": [],
   "source": [
    "import librosa"
   ]
  },
  {
   "cell_type": "code",
   "execution_count": 3,
   "id": "c22195eb-8725-4a42-8e0a-a7065fd66fe9",
   "metadata": {},
   "outputs": [
    {
     "ename": "ModuleNotFoundError",
     "evalue": "No module named 'matplotlib'",
     "output_type": "error",
     "traceback": [
      "\u001b[1;31m---------------------------------------------------------------------------\u001b[0m",
      "\u001b[1;31mModuleNotFoundError\u001b[0m                       Traceback (most recent call last)",
      "\u001b[1;32m<ipython-input-3-6af13132db92>\u001b[0m in \u001b[0;36m<module>\u001b[1;34m\u001b[0m\n\u001b[1;32m----> 1\u001b[1;33m \u001b[1;32mimport\u001b[0m \u001b[0mmatplotlib\u001b[0m\u001b[1;33m.\u001b[0m\u001b[0mpyplot\u001b[0m \u001b[1;32mas\u001b[0m \u001b[0mplt\u001b[0m\u001b[1;33m\u001b[0m\u001b[1;33m\u001b[0m\u001b[0m\n\u001b[0m\u001b[0;32m      2\u001b[0m \u001b[0mget_ipython\u001b[0m\u001b[1;33m(\u001b[0m\u001b[1;33m)\u001b[0m\u001b[1;33m.\u001b[0m\u001b[0mrun_line_magic\u001b[0m\u001b[1;33m(\u001b[0m\u001b[1;34m'matplotlib'\u001b[0m\u001b[1;33m,\u001b[0m \u001b[1;34m'inline'\u001b[0m\u001b[1;33m)\u001b[0m\u001b[1;33m\u001b[0m\u001b[1;33m\u001b[0m\u001b[0m\n",
      "\u001b[1;31mModuleNotFoundError\u001b[0m: No module named 'matplotlib'"
     ]
    }
   ],
   "source": [
    "import matplotlib.pyplot as plt\n",
    "%matplotlib inline"
   ]
  },
  {
   "cell_type": "code",
   "execution_count": 4,
   "id": "1905fbc5-811d-42a5-a02b-74d0c33120f0",
   "metadata": {},
   "outputs": [
    {
     "name": "stdout",
     "output_type": "stream",
     "text": [
      "Collecting matplotlib\n",
      "  Using cached matplotlib-3.4.2-cp39-cp39-win_amd64.whl (7.1 MB)\n",
      "Collecting kiwisolver>=1.0.1\n",
      "  Using cached kiwisolver-1.3.1-cp39-cp39-win_amd64.whl (51 kB)\n",
      "Requirement already satisfied: numpy>=1.16 in c:\\users\\daran\\appdata\\roaming\\python\\python39\\site-packages (from matplotlib) (1.20.3)\n",
      "Collecting cycler>=0.10\n",
      "  Using cached cycler-0.10.0-py2.py3-none-any.whl (6.5 kB)\n",
      "Requirement already satisfied: python-dateutil>=2.7 in c:\\users\\daran\\appdata\\roaming\\python\\python39\\site-packages (from matplotlib) (2.8.1)\n",
      "Collecting pillow>=6.2.0\n",
      "  Using cached Pillow-8.2.0-cp39-cp39-win_amd64.whl (2.2 MB)\n",
      "Requirement already satisfied: pyparsing>=2.2.1 in c:\\users\\daran\\appdata\\roaming\\python\\python39\\site-packages (from matplotlib) (2.4.7)\n",
      "Requirement already satisfied: six in c:\\users\\daran\\appdata\\roaming\\python\\python39\\site-packages (from cycler>=0.10->matplotlib) (1.16.0)\n",
      "Installing collected packages: pillow, kiwisolver, cycler, matplotlib\n",
      "Successfully installed cycler-0.10.0 kiwisolver-1.3.1 matplotlib-3.4.2 pillow-8.2.0\n"
     ]
    }
   ],
   "source": [
    "!pip install matplotlib"
   ]
  },
  {
   "cell_type": "code",
   "execution_count": 5,
   "id": "2191be67-37e0-42e5-bf6a-a43a5493a51b",
   "metadata": {},
   "outputs": [],
   "source": [
    "import matplotlib.pyplot as plt\n",
    "%matplotlib inline"
   ]
  },
  {
   "cell_type": "code",
   "execution_count": null,
   "id": "352ae0be-2573-4f83-a735-7ccb1ebb90f4",
   "metadata": {},
   "outputs": [],
   "source": []
  }
 ],
 "metadata": {
  "kernelspec": {
   "display_name": "Python 3",
   "language": "python",
   "name": "python3"
  },
  "language_info": {
   "codemirror_mode": {
    "name": "ipython",
    "version": 3
   },
   "file_extension": ".py",
   "mimetype": "text/x-python",
   "name": "python",
   "nbconvert_exporter": "python",
   "pygments_lexer": "ipython3",
   "version": "3.9.5"
  }
 },
 "nbformat": 4,
 "nbformat_minor": 5
}
