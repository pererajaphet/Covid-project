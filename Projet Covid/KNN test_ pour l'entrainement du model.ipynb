{
 "cells": [
  {
   "cell_type": "code",
   "execution_count": 1,
   "id": "24bed1bb",
   "metadata": {},
   "outputs": [
    {
     "data": {
      "text/html": [
       "<div>\n",
       "<style scoped>\n",
       "    .dataframe tbody tr th:only-of-type {\n",
       "        vertical-align: middle;\n",
       "    }\n",
       "\n",
       "    .dataframe tbody tr th {\n",
       "        vertical-align: top;\n",
       "    }\n",
       "\n",
       "    .dataframe thead th {\n",
       "        text-align: right;\n",
       "    }\n",
       "</style>\n",
       "<table border=\"1\" class=\"dataframe\">\n",
       "  <thead>\n",
       "    <tr style=\"text-align: right;\">\n",
       "      <th></th>\n",
       "      <th>chroma_stft</th>\n",
       "      <th>rmse</th>\n",
       "      <th>spectral_centroid</th>\n",
       "      <th>spectral_bandwidth</th>\n",
       "      <th>rolloff</th>\n",
       "      <th>zero_crossing_rate</th>\n",
       "      <th>mfcc1</th>\n",
       "      <th>label</th>\n",
       "    </tr>\n",
       "  </thead>\n",
       "  <tbody>\n",
       "    <tr>\n",
       "      <th>0</th>\n",
       "      <td>0.519951</td>\n",
       "      <td>0.045853</td>\n",
       "      <td>1612.895795</td>\n",
       "      <td>1411.838677</td>\n",
       "      <td>2907.580566</td>\n",
       "      <td>0.107019</td>\n",
       "      <td>-376.876007</td>\n",
       "      <td>1</td>\n",
       "    </tr>\n",
       "    <tr>\n",
       "      <th>1</th>\n",
       "      <td>0.535472</td>\n",
       "      <td>0.001771</td>\n",
       "      <td>2892.087076</td>\n",
       "      <td>2467.408141</td>\n",
       "      <td>5072.664388</td>\n",
       "      <td>0.148584</td>\n",
       "      <td>-519.158447</td>\n",
       "      <td>1</td>\n",
       "    </tr>\n",
       "    <tr>\n",
       "      <th>2</th>\n",
       "      <td>0.496666</td>\n",
       "      <td>0.033657</td>\n",
       "      <td>3429.061935</td>\n",
       "      <td>2788.634413</td>\n",
       "      <td>6886.288452</td>\n",
       "      <td>0.225315</td>\n",
       "      <td>-282.297913</td>\n",
       "      <td>1</td>\n",
       "    </tr>\n",
       "    <tr>\n",
       "      <th>3</th>\n",
       "      <td>0.434888</td>\n",
       "      <td>0.007786</td>\n",
       "      <td>2072.981248</td>\n",
       "      <td>2381.560624</td>\n",
       "      <td>4941.870117</td>\n",
       "      <td>0.086532</td>\n",
       "      <td>-352.871124</td>\n",
       "      <td>0</td>\n",
       "    </tr>\n",
       "    <tr>\n",
       "      <th>4</th>\n",
       "      <td>0.420671</td>\n",
       "      <td>0.030171</td>\n",
       "      <td>1846.500366</td>\n",
       "      <td>1846.403105</td>\n",
       "      <td>3766.565959</td>\n",
       "      <td>0.109832</td>\n",
       "      <td>-436.923462</td>\n",
       "      <td>0</td>\n",
       "    </tr>\n",
       "    <tr>\n",
       "      <th>5</th>\n",
       "      <td>0.472825</td>\n",
       "      <td>0.070594</td>\n",
       "      <td>3048.247566</td>\n",
       "      <td>1789.177630</td>\n",
       "      <td>4997.507931</td>\n",
       "      <td>0.323078</td>\n",
       "      <td>-367.393555</td>\n",
       "      <td>0</td>\n",
       "    </tr>\n",
       "    <tr>\n",
       "      <th>6</th>\n",
       "      <td>0.412697</td>\n",
       "      <td>0.059004</td>\n",
       "      <td>1555.648634</td>\n",
       "      <td>1418.599932</td>\n",
       "      <td>2870.737092</td>\n",
       "      <td>0.133998</td>\n",
       "      <td>-340.588013</td>\n",
       "      <td>0</td>\n",
       "    </tr>\n",
       "    <tr>\n",
       "      <th>7</th>\n",
       "      <td>0.309277</td>\n",
       "      <td>0.026976</td>\n",
       "      <td>1803.123020</td>\n",
       "      <td>1610.208629</td>\n",
       "      <td>3418.994141</td>\n",
       "      <td>0.121453</td>\n",
       "      <td>-356.820557</td>\n",
       "      <td>0</td>\n",
       "    </tr>\n",
       "    <tr>\n",
       "      <th>8</th>\n",
       "      <td>0.369728</td>\n",
       "      <td>0.090256</td>\n",
       "      <td>2073.045599</td>\n",
       "      <td>1921.397976</td>\n",
       "      <td>4125.103760</td>\n",
       "      <td>0.121889</td>\n",
       "      <td>-303.722107</td>\n",
       "      <td>0</td>\n",
       "    </tr>\n",
       "    <tr>\n",
       "      <th>9</th>\n",
       "      <td>0.334862</td>\n",
       "      <td>0.025825</td>\n",
       "      <td>2378.157877</td>\n",
       "      <td>1837.929976</td>\n",
       "      <td>4174.002075</td>\n",
       "      <td>0.195543</td>\n",
       "      <td>-461.928467</td>\n",
       "      <td>0</td>\n",
       "    </tr>\n",
       "    <tr>\n",
       "      <th>10</th>\n",
       "      <td>0.362192</td>\n",
       "      <td>0.077938</td>\n",
       "      <td>2266.945460</td>\n",
       "      <td>1764.567442</td>\n",
       "      <td>4113.240560</td>\n",
       "      <td>0.175282</td>\n",
       "      <td>-320.318939</td>\n",
       "      <td>0</td>\n",
       "    </tr>\n",
       "    <tr>\n",
       "      <th>11</th>\n",
       "      <td>0.400665</td>\n",
       "      <td>0.065813</td>\n",
       "      <td>2385.203326</td>\n",
       "      <td>1833.001714</td>\n",
       "      <td>4335.949707</td>\n",
       "      <td>0.180730</td>\n",
       "      <td>-292.062714</td>\n",
       "      <td>0</td>\n",
       "    </tr>\n",
       "    <tr>\n",
       "      <th>12</th>\n",
       "      <td>0.351491</td>\n",
       "      <td>0.027682</td>\n",
       "      <td>1715.378638</td>\n",
       "      <td>1905.517974</td>\n",
       "      <td>3689.530535</td>\n",
       "      <td>0.125993</td>\n",
       "      <td>-463.256775</td>\n",
       "      <td>0</td>\n",
       "    </tr>\n",
       "    <tr>\n",
       "      <th>13</th>\n",
       "      <td>0.423391</td>\n",
       "      <td>0.045958</td>\n",
       "      <td>1953.875884</td>\n",
       "      <td>1841.229434</td>\n",
       "      <td>4010.060628</td>\n",
       "      <td>0.118139</td>\n",
       "      <td>-400.554688</td>\n",
       "      <td>0</td>\n",
       "    </tr>\n",
       "    <tr>\n",
       "      <th>14</th>\n",
       "      <td>0.459672</td>\n",
       "      <td>0.027777</td>\n",
       "      <td>1909.696753</td>\n",
       "      <td>1886.206615</td>\n",
       "      <td>3996.402995</td>\n",
       "      <td>0.113618</td>\n",
       "      <td>-450.263306</td>\n",
       "      <td>0</td>\n",
       "    </tr>\n",
       "    <tr>\n",
       "      <th>15</th>\n",
       "      <td>0.617522</td>\n",
       "      <td>0.004767</td>\n",
       "      <td>2434.453569</td>\n",
       "      <td>2470.180196</td>\n",
       "      <td>5392.272949</td>\n",
       "      <td>0.137085</td>\n",
       "      <td>-361.218872</td>\n",
       "      <td>0</td>\n",
       "    </tr>\n",
       "    <tr>\n",
       "      <th>16</th>\n",
       "      <td>0.463166</td>\n",
       "      <td>0.023961</td>\n",
       "      <td>2756.662871</td>\n",
       "      <td>1939.621960</td>\n",
       "      <td>4879.091724</td>\n",
       "      <td>0.312410</td>\n",
       "      <td>-455.442993</td>\n",
       "      <td>0</td>\n",
       "    </tr>\n",
       "    <tr>\n",
       "      <th>17</th>\n",
       "      <td>0.411223</td>\n",
       "      <td>0.062716</td>\n",
       "      <td>2583.166934</td>\n",
       "      <td>2139.571025</td>\n",
       "      <td>4960.213216</td>\n",
       "      <td>0.195428</td>\n",
       "      <td>-341.669006</td>\n",
       "      <td>0</td>\n",
       "    </tr>\n",
       "    <tr>\n",
       "      <th>18</th>\n",
       "      <td>0.363964</td>\n",
       "      <td>0.065670</td>\n",
       "      <td>1912.841678</td>\n",
       "      <td>1714.528655</td>\n",
       "      <td>3665.354919</td>\n",
       "      <td>0.125320</td>\n",
       "      <td>-290.729584</td>\n",
       "      <td>0</td>\n",
       "    </tr>\n",
       "  </tbody>\n",
       "</table>\n",
       "</div>"
      ],
      "text/plain": [
       "    chroma_stft      rmse  spectral_centroid  spectral_bandwidth      rolloff  \\\n",
       "0      0.519951  0.045853        1612.895795         1411.838677  2907.580566   \n",
       "1      0.535472  0.001771        2892.087076         2467.408141  5072.664388   \n",
       "2      0.496666  0.033657        3429.061935         2788.634413  6886.288452   \n",
       "3      0.434888  0.007786        2072.981248         2381.560624  4941.870117   \n",
       "4      0.420671  0.030171        1846.500366         1846.403105  3766.565959   \n",
       "5      0.472825  0.070594        3048.247566         1789.177630  4997.507931   \n",
       "6      0.412697  0.059004        1555.648634         1418.599932  2870.737092   \n",
       "7      0.309277  0.026976        1803.123020         1610.208629  3418.994141   \n",
       "8      0.369728  0.090256        2073.045599         1921.397976  4125.103760   \n",
       "9      0.334862  0.025825        2378.157877         1837.929976  4174.002075   \n",
       "10     0.362192  0.077938        2266.945460         1764.567442  4113.240560   \n",
       "11     0.400665  0.065813        2385.203326         1833.001714  4335.949707   \n",
       "12     0.351491  0.027682        1715.378638         1905.517974  3689.530535   \n",
       "13     0.423391  0.045958        1953.875884         1841.229434  4010.060628   \n",
       "14     0.459672  0.027777        1909.696753         1886.206615  3996.402995   \n",
       "15     0.617522  0.004767        2434.453569         2470.180196  5392.272949   \n",
       "16     0.463166  0.023961        2756.662871         1939.621960  4879.091724   \n",
       "17     0.411223  0.062716        2583.166934         2139.571025  4960.213216   \n",
       "18     0.363964  0.065670        1912.841678         1714.528655  3665.354919   \n",
       "\n",
       "    zero_crossing_rate       mfcc1  label  \n",
       "0             0.107019 -376.876007      1  \n",
       "1             0.148584 -519.158447      1  \n",
       "2             0.225315 -282.297913      1  \n",
       "3             0.086532 -352.871124      0  \n",
       "4             0.109832 -436.923462      0  \n",
       "5             0.323078 -367.393555      0  \n",
       "6             0.133998 -340.588013      0  \n",
       "7             0.121453 -356.820557      0  \n",
       "8             0.121889 -303.722107      0  \n",
       "9             0.195543 -461.928467      0  \n",
       "10            0.175282 -320.318939      0  \n",
       "11            0.180730 -292.062714      0  \n",
       "12            0.125993 -463.256775      0  \n",
       "13            0.118139 -400.554688      0  \n",
       "14            0.113618 -450.263306      0  \n",
       "15            0.137085 -361.218872      0  \n",
       "16            0.312410 -455.442993      0  \n",
       "17            0.195428 -341.669006      0  \n",
       "18            0.125320 -290.729584      0  "
      ]
     },
     "execution_count": 1,
     "metadata": {},
     "output_type": "execute_result"
    }
   ],
   "source": [
    "import pandas as pd \n",
    "data=pd.read_csv('final_data_v3.csv')\n",
    "data.drop(data.iloc[:,7:26],1,inplace=True)\n",
    "data[0:19]"
   ]
  },
  {
   "cell_type": "code",
   "execution_count": 2,
   "id": "2a11eef3",
   "metadata": {},
   "outputs": [
    {
     "data": {
      "text/plain": [
       "array([1, 1, 1, 0, 0, 0, 0, 0, 0, 0, 0, 0, 0, 0, 0, 0, 0, 0, 0])"
      ]
     },
     "execution_count": 2,
     "metadata": {},
     "output_type": "execute_result"
    }
   ],
   "source": [
    "y = data['label'].values\n",
    "y[0:19]"
   ]
  },
  {
   "cell_type": "code",
   "execution_count": 3,
   "id": "74f667ab",
   "metadata": {},
   "outputs": [
    {
     "data": {
      "text/plain": [
       "array([[5.19950747e-01, 4.58526610e-02, 1.61289579e+03, 1.41183868e+03,\n",
       "        2.90758057e+03, 1.07019495e-01],\n",
       "       [5.35472155e-01, 1.77061700e-03, 2.89208708e+03, 2.46740814e+03,\n",
       "        5.07266439e+03, 1.48584436e-01],\n",
       "       [4.96666044e-01, 3.36569850e-02, 3.42906194e+03, 2.78863441e+03,\n",
       "        6.88628845e+03, 2.25314670e-01],\n",
       "       [4.34887528e-01, 7.78566500e-03, 2.07298125e+03, 2.38156062e+03,\n",
       "        4.94187012e+03, 8.65319290e-02],\n",
       "       [4.20671344e-01, 3.01710200e-02, 1.84650037e+03, 1.84640311e+03,\n",
       "        3.76656596e+03, 1.09831633e-01],\n",
       "       [4.72825050e-01, 7.05944450e-02, 3.04824757e+03, 1.78917763e+03,\n",
       "        4.99750793e+03, 3.23078486e-01],\n",
       "       [4.12696540e-01, 5.90038520e-02, 1.55564863e+03, 1.41859993e+03,\n",
       "        2.87073709e+03, 1.33998326e-01],\n",
       "       [3.09277296e-01, 2.69755760e-02, 1.80312302e+03, 1.61020863e+03,\n",
       "        3.41899414e+03, 1.21453179e-01],\n",
       "       [3.69727582e-01, 9.02561840e-02, 2.07304560e+03, 1.92139798e+03,\n",
       "        4.12510376e+03, 1.21889468e-01],\n",
       "       [3.34862024e-01, 2.58254300e-02, 2.37815788e+03, 1.83792998e+03,\n",
       "        4.17400208e+03, 1.95543077e-01],\n",
       "       [3.62191647e-01, 7.79379830e-02, 2.26694546e+03, 1.76456744e+03,\n",
       "        4.11324056e+03, 1.75281666e-01],\n",
       "       [4.00665015e-01, 6.58132280e-02, 2.38520333e+03, 1.83300171e+03,\n",
       "        4.33594971e+03, 1.80729619e-01],\n",
       "       [3.51491213e-01, 2.76819230e-02, 1.71537864e+03, 1.90551797e+03,\n",
       "        3.68953053e+03, 1.25993236e-01],\n",
       "       [4.23390657e-01, 4.59583770e-02, 1.95387588e+03, 1.84122943e+03,\n",
       "        4.01006063e+03, 1.18139196e-01],\n",
       "       [4.59671825e-01, 2.77771130e-02, 1.90969675e+03, 1.88620662e+03,\n",
       "        3.99640299e+03, 1.13618074e-01],\n",
       "       [6.17521763e-01, 4.76720000e-03, 2.43445357e+03, 2.47018020e+03,\n",
       "        5.39227295e+03, 1.37084961e-01],\n",
       "       [4.63166445e-01, 2.39605460e-02, 2.75666287e+03, 1.93962196e+03,\n",
       "        4.87909172e+03, 3.12410117e-01],\n",
       "       [4.11223054e-01, 6.27164240e-02, 2.58316693e+03, 2.13957103e+03,\n",
       "        4.96021322e+03, 1.95427789e-01],\n",
       "       [3.63964438e-01, 6.56704230e-02, 1.91284168e+03, 1.71452866e+03,\n",
       "        3.66535492e+03, 1.25320435e-01]])"
      ]
     },
     "execution_count": 3,
     "metadata": {},
     "output_type": "execute_result"
    }
   ],
   "source": [
    "X = data[['chroma_stft', 'rmse', 'spectral_centroid', 'spectral_bandwidth', 'rolloff', 'zero_crossing_rate']].values\n",
    "X[0:19]"
   ]
  },
  {
   "cell_type": "code",
   "execution_count": 4,
   "id": "8aaa427e",
   "metadata": {},
   "outputs": [
    {
     "data": {
      "text/plain": [
       "(164, 8)"
      ]
     },
     "metadata": {},
     "output_type": "display_data"
    },
    {
     "data": {
      "text/plain": [
       "array([1, 0])"
      ]
     },
     "metadata": {},
     "output_type": "display_data"
    }
   ],
   "source": [
    "display(data.shape, data.label.unique())"
   ]
  },
  {
   "cell_type": "code",
   "execution_count": 5,
   "id": "5fd201e4",
   "metadata": {},
   "outputs": [
    {
     "name": "stdout",
     "output_type": "stream",
     "text": [
      "684 300 114 50\n"
     ]
    }
   ],
   "source": [
    "from sklearn.model_selection import train_test_split\n",
    "X_train, X_test, y_train, y_test = train_test_split(X, y,train_size=0.7, random_state=5)\n",
    "print(X_train.size,X_test.size,y_train.size,y_test.size )"
   ]
  },
  {
   "cell_type": "code",
   "execution_count": 6,
   "id": "9f4d47c5",
   "metadata": {},
   "outputs": [
    {
     "data": {
      "text/plain": [
       "KNeighborsClassifier(n_neighbors=15)"
      ]
     },
     "execution_count": 6,
     "metadata": {},
     "output_type": "execute_result"
    }
   ],
   "source": [
    "from sklearn import neighbors\n",
    "knn = neighbors.KNeighborsClassifier(n_neighbors=15)\n",
    "knn.fit(X_train, y_train)"
   ]
  },
  {
   "cell_type": "code",
   "execution_count": 7,
   "id": "66ab5e20",
   "metadata": {},
   "outputs": [
    {
     "data": {
      "text/plain": [
       "0.9"
      ]
     },
     "execution_count": 7,
     "metadata": {},
     "output_type": "execute_result"
    }
   ],
   "source": [
    "knn.predict (X_test)[0:16]\n",
    "knn.score (X_test, y_test)"
   ]
  },
  {
   "cell_type": "code",
   "execution_count": 8,
   "id": "1edd99ca",
   "metadata": {},
   "outputs": [
    {
     "name": "stdout",
     "output_type": "stream",
     "text": [
      "0.9\n"
     ]
    }
   ],
   "source": [
    "from sklearn import metrics\n",
    "y_pred = knn.predict(X_test)\n",
    "print(metrics.accuracy_score(y_test, y_pred))"
   ]
  },
  {
   "cell_type": "code",
   "execution_count": 9,
   "id": "e5991e99",
   "metadata": {},
   "outputs": [
    {
     "data": {
      "text/plain": [
       "0.9"
      ]
     },
     "execution_count": 9,
     "metadata": {},
     "output_type": "execute_result"
    }
   ],
   "source": [
    "from sklearn import neighbors\n",
    "knn1 = neighbors.KNeighborsClassifier(n_neighbors=5)\n",
    "knn1.fit(X_train, y_train)\n",
    "knn1.predict (X_test)[0:5]\n",
    "knn1.score (X_test, y_test)"
   ]
  },
  {
   "cell_type": "code",
   "execution_count": 10,
   "id": "99183c54",
   "metadata": {},
   "outputs": [
    {
     "data": {
      "text/plain": [
       "0.9"
      ]
     },
     "execution_count": 10,
     "metadata": {},
     "output_type": "execute_result"
    }
   ],
   "source": [
    "from sklearn.naive_bayes import BernoulliNB\n",
    "bnb = BernoulliNB(binarize=0.0)\n",
    "bnb.fit(X_train, y_train)\n",
    "BernoulliNB(alpha=1.0, binarize=0.0, class_prior=None, fit_prior=True)\n",
    "bnb.score(X_test,y_test)"
   ]
  },
  {
   "cell_type": "code",
   "execution_count": 11,
   "id": "07953fef",
   "metadata": {},
   "outputs": [
    {
     "data": {
      "text/plain": [
       "0.9"
      ]
     },
     "execution_count": 11,
     "metadata": {},
     "output_type": "execute_result"
    }
   ],
   "source": [
    "from sklearn.naive_bayes import GaussianNB\n",
    "gnb = GaussianNB()\n",
    "gnb.fit(X_train, y_train)\n",
    "GaussianNB(priors=None)\n",
    "gnb.score(X_test,y_test)"
   ]
  },
  {
   "cell_type": "code",
   "execution_count": null,
   "id": "86f97d17",
   "metadata": {},
   "outputs": [],
   "source": []
  }
 ],
 "metadata": {
  "kernelspec": {
   "display_name": "Python 3",
   "language": "python",
   "name": "python3"
  },
  "language_info": {
   "codemirror_mode": {
    "name": "ipython",
    "version": 3
   },
   "file_extension": ".py",
   "mimetype": "text/x-python",
   "name": "python",
   "nbconvert_exporter": "python",
   "pygments_lexer": "ipython3",
   "version": "3.8.8"
  }
 },
 "nbformat": 4,
 "nbformat_minor": 5
}
